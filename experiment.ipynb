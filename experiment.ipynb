{
 "cells": [
  {
   "cell_type": "markdown",
   "id": "40f10ddc-71af-487b-b2f8-2bd8735f731e",
   "metadata": {},
   "source": [
    "# Define metrics"
   ]
  },
  {
   "cell_type": "code",
   "execution_count": 1,
   "id": "f254cf68-c3bb-4b7a-b750-d0e348e582d2",
   "metadata": {},
   "outputs": [],
   "source": [
    "from model import PathFindingModel\n",
    "import mesa"
   ]
  },
  {
   "cell_type": "code",
   "execution_count": 2,
   "id": "778b823f-c63e-49d5-998b-6660902e5e75",
   "metadata": {},
   "outputs": [
    {
     "name": "stderr",
     "output_type": "stream",
     "text": [
      "100%|█████████████████████████████████████████████████████████████████████████████████████████████████████████████| 100/100 [19:13<00:00, 11.53s/it]\n"
     ]
    }
   ],
   "source": [
    "params = {\"width\":20,\"height\":20,\"obs_num\":40,\"goals_num\":2}\n",
    "results = mesa.batch_run(\n",
    "    PathFindingModel,\n",
    "    parameters = params,\n",
    "    iterations = 100,\n",
    "    max_steps = 200,\n",
    "    number_processes = 1,\n",
    "    data_collection_period = 5,\n",
    "    display_progress=True\n",
    ")"
   ]
  },
  {
   "cell_type": "code",
   "execution_count": 3,
   "id": "5201bb67-00d7-4e0c-9185-e0ed06a1c08b",
   "metadata": {},
   "outputs": [
    {
     "name": "stdout",
     "output_type": "stream",
     "text": [
      "Index(['RunId', 'iteration', 'Step', 'width', 'height', 'obs_num', 'goals_num',\n",
      "       'Goal_Rank', 'Benchmark_Rank'],\n",
      "      dtype='object')\n"
     ]
    }
   ],
   "source": [
    "import pandas as pd\n",
    "results_df = pd.DataFrame(results)\n",
    "print(results_df.keys())"
   ]
  },
  {
   "cell_type": "code",
   "execution_count": 4,
   "id": "034ead26-0db8-4cd2-8499-4a244329fb0e",
   "metadata": {},
   "outputs": [
    {
     "data": {
      "text/html": [
       "<div>\n",
       "<style scoped>\n",
       "    .dataframe tbody tr th:only-of-type {\n",
       "        vertical-align: middle;\n",
       "    }\n",
       "\n",
       "    .dataframe tbody tr th {\n",
       "        vertical-align: top;\n",
       "    }\n",
       "\n",
       "    .dataframe thead th {\n",
       "        text-align: right;\n",
       "    }\n",
       "</style>\n",
       "<table border=\"1\" class=\"dataframe\">\n",
       "  <thead>\n",
       "    <tr style=\"text-align: right;\">\n",
       "      <th></th>\n",
       "      <th>RunId</th>\n",
       "      <th>iteration</th>\n",
       "      <th>Step</th>\n",
       "      <th>width</th>\n",
       "      <th>height</th>\n",
       "      <th>obs_num</th>\n",
       "      <th>goals_num</th>\n",
       "      <th>Goal_Rank</th>\n",
       "      <th>Benchmark_Rank</th>\n",
       "    </tr>\n",
       "  </thead>\n",
       "  <tbody>\n",
       "    <tr>\n",
       "      <th>0</th>\n",
       "      <td>0</td>\n",
       "      <td>0</td>\n",
       "      <td>0</td>\n",
       "      <td>20</td>\n",
       "      <td>20</td>\n",
       "      <td>40</td>\n",
       "      <td>2</td>\n",
       "      <td>[0, 1, 2, 3, 4, 5]</td>\n",
       "      <td>[0, 1, 2, 3, 4, 5]</td>\n",
       "    </tr>\n",
       "    <tr>\n",
       "      <th>1</th>\n",
       "      <td>0</td>\n",
       "      <td>0</td>\n",
       "      <td>5</td>\n",
       "      <td>20</td>\n",
       "      <td>20</td>\n",
       "      <td>40</td>\n",
       "      <td>2</td>\n",
       "      <td>[0, 1, 2, 3, 4, 5]</td>\n",
       "      <td>[0, 1, 2, 3, 4, 5]</td>\n",
       "    </tr>\n",
       "    <tr>\n",
       "      <th>2</th>\n",
       "      <td>0</td>\n",
       "      <td>0</td>\n",
       "      <td>10</td>\n",
       "      <td>20</td>\n",
       "      <td>20</td>\n",
       "      <td>40</td>\n",
       "      <td>2</td>\n",
       "      <td>[0, 1, 2, 3, 4, 5]</td>\n",
       "      <td>[0, 1, 2, 3, 4, 5]</td>\n",
       "    </tr>\n",
       "    <tr>\n",
       "      <th>3</th>\n",
       "      <td>0</td>\n",
       "      <td>0</td>\n",
       "      <td>15</td>\n",
       "      <td>20</td>\n",
       "      <td>20</td>\n",
       "      <td>40</td>\n",
       "      <td>2</td>\n",
       "      <td>[4, 3, 5, 2, 0, 1]</td>\n",
       "      <td>[4, 3, 5, 2, 0, 1]</td>\n",
       "    </tr>\n",
       "    <tr>\n",
       "      <th>4</th>\n",
       "      <td>0</td>\n",
       "      <td>0</td>\n",
       "      <td>20</td>\n",
       "      <td>20</td>\n",
       "      <td>20</td>\n",
       "      <td>40</td>\n",
       "      <td>2</td>\n",
       "      <td>[0, 2, 1, 3, 4, 5]</td>\n",
       "      <td>[0, 2, 1, 3, 4, 5]</td>\n",
       "    </tr>\n",
       "  </tbody>\n",
       "</table>\n",
       "</div>"
      ],
      "text/plain": [
       "   RunId  iteration  Step  width  height  obs_num  goals_num  \\\n",
       "0      0          0     0     20      20       40          2   \n",
       "1      0          0     5     20      20       40          2   \n",
       "2      0          0    10     20      20       40          2   \n",
       "3      0          0    15     20      20       40          2   \n",
       "4      0          0    20     20      20       40          2   \n",
       "\n",
       "            Goal_Rank      Benchmark_Rank  \n",
       "0  [0, 1, 2, 3, 4, 5]  [0, 1, 2, 3, 4, 5]  \n",
       "1  [0, 1, 2, 3, 4, 5]  [0, 1, 2, 3, 4, 5]  \n",
       "2  [0, 1, 2, 3, 4, 5]  [0, 1, 2, 3, 4, 5]  \n",
       "3  [4, 3, 5, 2, 0, 1]  [4, 3, 5, 2, 0, 1]  \n",
       "4  [0, 2, 1, 3, 4, 5]  [0, 2, 1, 3, 4, 5]  "
      ]
     },
     "execution_count": 4,
     "metadata": {},
     "output_type": "execute_result"
    }
   ],
   "source": [
    "results_df.head()"
   ]
  },
  {
   "cell_type": "markdown",
   "id": "9133d4f9-e99a-441c-91a7-09381e20b922",
   "metadata": {},
   "source": [
    "### Stability: the frequency of ranking change "
   ]
  },
  {
   "cell_type": "code",
   "execution_count": 5,
   "id": "a20f392e-4fa2-4b06-9ddf-434831c9f08c",
   "metadata": {},
   "outputs": [],
   "source": [
    "def stability(rankings_list):\n",
    "    ## the rankings should be ordered based on time\n",
    "    num = 0\n",
    "    current_ranking = []\n",
    "    for ranking in rankings_list:\n",
    "        if ranking!=current_ranking:\n",
    "            num +=1\n",
    "            current_ranking = ranking\n",
    "    return 1/num"
   ]
  },
  {
   "cell_type": "code",
   "execution_count": 6,
   "id": "774d1448-2f2d-4b48-b888-a705a80a6978",
   "metadata": {},
   "outputs": [],
   "source": [
    "prediction_stability = results_df.groupby(\"iteration\")[\"Goal_Rank\"].agg(stability)\n",
    "benchmark_stability = results_df.groupby(\"iteration\")[\"Benchmark_Rank\"].agg(stability)"
   ]
  },
  {
   "cell_type": "code",
   "execution_count": 7,
   "id": "89b16c32-86c5-430c-9b99-2ce598338287",
   "metadata": {},
   "outputs": [
    {
     "data": {
      "image/png": "[encoded data removed]",
      "text/plain": [
       "<Figure size 640x480 with 1 Axes>"
      ]
     },
     "metadata": {},
     "output_type": "display_data"
    }
   ],
   "source": [
    "%matplotlib inline\n",
    "import matplotlib.pyplot as plt\n",
    "columns = [prediction_stability, benchmark_stability]\n",
    "fig,ax = plt.subplots()\n",
    "ax.boxplot(columns)\n",
    "plt.xticks([1,2],['Prediction', 'Benchmark'])\n",
    "plt.show()"
   ]
  },
  {
   "cell_type": "markdown",
   "id": "f350e9f9-36b8-426a-8d46-a722f1ad1b37",
   "metadata": {},
   "source": [
    "### Correctness: the proportion of time get the top ranked goal correct"
   ]
  },
  {
   "cell_type": "code",
   "execution_count": 8,
   "id": "22f092ae-cd12-4f26-9e10-afaac4c11ab5",
   "metadata": {},
   "outputs": [],
   "source": [
    "def correctness(rankings_list):\n",
    "    num = 0\n",
    "    for ranking in rankings_list:\n",
    "        if ranking[0]==0:\n",
    "            num += 1\n",
    "    return num/rankings_list.size"
   ]
  },
  {
   "cell_type": "code",
   "execution_count": 9,
   "id": "bcf62d45-d454-4b97-8f7d-8be886ef2bd3",
   "metadata": {},
   "outputs": [],
   "source": [
    "prediction_correctness = results_df.groupby(\"iteration\")[\"Goal_Rank\"].agg(correctness)\n",
    "benchmark_correctness = results_df.groupby(\"iteration\")[\"Benchmark_Rank\"].agg(correctness)"
   ]
  },
  {
   "cell_type": "code",
   "execution_count": 10,
   "id": "8b814edc-bc16-434a-a0cb-62a344b72926",
   "metadata": {},
   "outputs": [
    {
     "data": {
      "image/png": "[encoded data removed]",
      "text/plain": [
       "<Figure size 640x480 with 1 Axes>"
      ]
     },
     "metadata": {},
     "output_type": "display_data"
    }
   ],
   "source": [
    "columns = [prediction_correctness, benchmark_correctness]\n",
    "fig,ax = plt.subplots()\n",
    "ax.boxplot(columns)\n",
    "plt.xticks([1,2],['Prediction', 'Benchmark'])\n",
    "plt.show()"
   ]
  },
  {
   "cell_type": "code",
   "execution_count": null,
   "id": "41dbb4e3-23ca-4be0-96a7-aba656c7a265",
   "metadata": {},
   "outputs": [],
   "source": []
  }
 ],
 "metadata": {
  "kernelspec": {
   "display_name": "Python 3 (ipykernel)",
   "language": "python",
   "name": "python3"
  },
  "language_info": {
   "codemirror_mode": {
    "name": "ipython",
    "version": 3
   },
   "file_extension": ".py",
   "mimetype": "text/x-python",
   "name": "python",
   "nbconvert_exporter": "python",
   "pygments_lexer": "ipython3",
   "version": "3.10.6"
  }
 },
 "nbformat": 4,
 "nbformat_minor": 5
}
