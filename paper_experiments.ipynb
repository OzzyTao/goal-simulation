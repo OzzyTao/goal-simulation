{
 "cells": [
  {
   "cell_type": "code",
   "execution_count": null,
   "metadata": {},
   "outputs": [],
   "source": [
    "from simulation.model import PathFindingModel\n",
    "import mesa\n",
    "import analytics.ranking_measures as measures\n",
    "import pandas as pd\n",
    "from analytics.prob_measures import *"
   ]
  },
  {
   "cell_type": "code",
   "execution_count": null,
   "metadata": {},
   "outputs": [],
   "source": [
    "def group_summary(df, measure_func):\n",
    "    group_statistics = {\n",
    "        'zone':df['goal_zones'].iloc[0],\n",
    "        'alg':df['path_planning_alg'].iloc[0],\n",
    "        'goal_pop':df['intention_num'].iloc[0],\n",
    "        'seed':df['seed'].iloc[0],\n",
    "        'obstacle_used':df['obstacle_used'].iloc[0],\n",
    "        'segments':df['segment_num'].max(),\n",
    "        'segmentation':measure_func(df['Segment_ranking'],ground_truth_position=df['true_intention'].iloc[0]),\n",
    "        'masters':measure_func(df['Masters_ranking'],ground_truth_position=df['true_intention'].iloc[0]),\n",
    "        'mirroring':measure_func(df['Mirroring_ranking'],ground_truth_position=df['true_intention'].iloc[0]),\n",
    "        'segmentation_probs':df['Segment_probs'].iloc[-1],\n",
    "        'masters_probs':df['Masters_probs'].iloc[-1],\n",
    "        'mirroring_probs':df['Mirroring_probs'].iloc[-1],\n",
    "        'segmentation_time':df['Segment_step_time'].mean(),\n",
    "        'fast_segmentation_time':df['FastSegment_step_time'].mean(),\n",
    "        'masters_time':df['Masters_step_time'].mean(),\n",
    "        'mirroring_time':df['Mirroring_step_time'].mean()}\n",
    "    return pd.Series(group_statistics)\n",
    "\n",
    "def df_transform(raw_df, measure_func):\n",
    "    run_statistics = raw_df.groupby('RunId').apply(lambda x: group_summary(x, measure_func))\n",
    "    # run_statistics.set_index(['zone','goal_pop','seed','alg','obstacle_used'], inplace=True)\n",
    "    return run_statistics\n"
   ]
  },
  {
   "attachments": {},
   "cell_type": "markdown",
   "metadata": {},
   "source": [
    "## Experiment 1: the impact of number of intentions\n",
    "\n",
    "### Single goal, two intentions: to the true destination with or without obstacles\n"
   ]
  },
  {
   "cell_type": "code",
   "execution_count": null,
   "metadata": {},
   "outputs": [],
   "source": [
    "params = {\"width\":20,\"height\":20,\"obs_num\":40,\"goal_zones\":'0',\"seed\":range(0,1000),\"path_planning_alg\":0,\"intention_profile\":1}\n",
    "results = mesa.batch_run(\n",
    "    PathFindingModel,\n",
    "    parameters = params,\n",
    "    iterations = 1,\n",
    "    max_steps = 500,\n",
    "    number_processes = None,\n",
    "    data_collection_period = 1,\n",
    "    display_progress=True,\n",
    ")\n",
    "results_df_e1_1 = pd.DataFrame(results)"
   ]
  },
  {
   "cell_type": "code",
   "execution_count": null,
   "metadata": {},
   "outputs": [],
   "source": [
    "# results_df_e1_1.to_csv('results/e1_1_raw.csv')"
   ]
  },
  {
   "cell_type": "code",
   "execution_count": null,
   "metadata": {},
   "outputs": [],
   "source": [
    "# results_df_e1_1 = pd.read_csv('results/e1_1_raw.csv')"
   ]
  },
  {
   "cell_type": "code",
   "execution_count": null,
   "metadata": {},
   "outputs": [],
   "source": [
    "# results_df_e1_1"
   ]
  },
  {
   "cell_type": "code",
   "execution_count": null,
   "metadata": {},
   "outputs": [],
   "source": [
    "e1_1_final_correctness = df_transform(results_df_e1_1, measures.final_correctness)\n",
    "e1_1_fc_long = pd.melt(e1_1_final_correctness.reset_index(), id_vars=['zone','alg','goal_pop','seed','obstacle_used'], value_vars=['segmentation','masters','mirroring'], var_name='measure', value_name='Final Correctness')\n",
    "e1_1_fc_long.set_index(['zone','goal_pop','seed','alg','obstacle_used','measure'], inplace=True)\n",
    "e1_1_gc = df_transform(results_df_e1_1, measures.correctness)\n",
    "e1_1_gc_long = pd.melt(e1_1_gc.reset_index(), id_vars=['zone','alg','goal_pop','seed','obstacle_used'], value_vars=['segmentation','masters','mirroring'], var_name='measure', value_name='Overall Correctness')\n",
    "e1_1_gc_long.set_index(['zone','goal_pop','seed','alg','obstacle_used','measure'], inplace=True)\n",
    "e1_1_cc = df_transform(results_df_e1_1, measures.last_change)\n",
    "e1_1_cc_long = pd.melt(e1_1_cc.reset_index(), id_vars=['zone','alg','goal_pop','seed','obstacle_used'], value_vars=['segmentation','masters','mirroring'], var_name='measure', value_name='Convergence Speed')\n",
    "e1_1_cc_long.set_index(['zone','goal_pop','seed','alg','obstacle_used','measure'], inplace=True)\n",
    "e1_1_stability = df_transform(results_df_e1_1, measures.stability)\n",
    "e1_1_stability_long = pd.melt(e1_1_stability.reset_index(), id_vars=['zone','alg','goal_pop','seed','obstacle_used'], value_vars=['segmentation','masters','mirroring'], var_name='measure', value_name='Stability')\n",
    "e1_1_stability_long.set_index(['zone','goal_pop','seed','alg','obstacle_used','measure'], inplace=True)\n",
    "e1_1 = pd.concat([e1_1_fc_long, e1_1_gc_long, e1_1_cc_long, e1_1_stability_long], axis=1)\n",
    "e1_1.reset_index(names=['zone','goal_pop','seed','alg','obstacle_used','measure'], inplace=True)\n",
    "e1_1_long = pd.melt(e1_1, id_vars=['zone','goal_pop','seed','alg','obstacle_used','measure'], value_vars=['Final Correctness','Overall Correctness','Convergence Speed','Stability'], var_name='metric', value_name='value')"
   ]
  },
  {
   "cell_type": "code",
   "execution_count": null,
   "metadata": {},
   "outputs": [],
   "source": [
    "# e1_1_long.to_csv('results/e1_1_cost.csv')"
   ]
  },
  {
   "cell_type": "code",
   "execution_count": null,
   "metadata": {},
   "outputs": [],
   "source": [
    "# e1_1_long = pd.read_csv('results/e1_1.csv')"
   ]
  },
  {
   "cell_type": "code",
   "execution_count": null,
   "metadata": {},
   "outputs": [],
   "source": [
    "import seaborn as sns\n",
    "import matplotlib.pyplot as plt\n",
    "sns.set(font_scale=1.2)\n",
    "with sns.axes_style(\"whitegrid\"):\n",
    "    g = sns.FacetGrid(e1_1_long, col=\"metric\", height=3, aspect = 0.9, col_order=['General Correctness','Final Correctness','Convergence Correctness','Stability'])\n",
    "g.map(sns.violinplot,\"measure\", \"value\", \"obstacle_used\",split=True, cut=0, order=['segmentation','masters','mirroring'],hue_order=[False,True],palette='Set2',linewidth=1,inner='quartile',scale='width',x_label_rotation=20)\n",
    "g.set_titles(\"{col_name}\")\n",
    "g.add_legend(title='Obstacle Used')\n"
   ]
  },
  {
   "cell_type": "code",
   "execution_count": null,
   "metadata": {},
   "outputs": [],
   "source": [
    "# g.savefig('results/e1_1.pdf', format='pdf')"
   ]
  },
  {
   "cell_type": "code",
   "execution_count": null,
   "metadata": {},
   "outputs": [],
   "source": [
    "# e1_1_long"
   ]
  },
  {
   "cell_type": "markdown",
   "metadata": {},
   "source": [
    "### separate visualization"
   ]
  },
  {
   "cell_type": "code",
   "execution_count": null,
   "metadata": {},
   "outputs": [],
   "source": [
    "tmp = e1_1_long.replace({'obstacle_used':{False:'No Obstacle',True:'Obstacle Used'}})"
   ]
  },
  {
   "cell_type": "markdown",
   "metadata": {},
   "source": [
    "#### obstacle not used"
   ]
  },
  {
   "cell_type": "code",
   "execution_count": null,
   "metadata": {},
   "outputs": [],
   "source": [
    "import seaborn as sns\n",
    "sns.set(font='Arial',font_scale=1.4)\n",
    "g = sns.FacetGrid(tmp, row='obstacle_used',col=\"metric\", height=3, col_order=['Overall Correctness','Final Correctness','Convergence Speed','Stability'], row_order=['No Obstacle','Obstacle Used'], \n",
    "                  margin_titles=True, \n",
    "                  palette='Set2',\n",
    "                  hue='measure',\n",
    "                  hue_order = ['segmentation','masters','mirroring']\n",
    "                  )\n",
    "g.set_titles(row_template=\"{row_name}\",col_template=\"{col_name}\")\n",
    "g.map(sns.violinplot,\"measure\", \"value\", \n",
    "      cut=0, \n",
    "      order=['segmentation','masters','mirroring'], \n",
    "      dodge=False,\n",
    "      inner=None,\n",
    "      bw_adjust=0.2,\n",
    "      density_norm = \"area\",\n",
    "      )\n",
    "g.map(sns.pointplot,\"measure\", \"value\",color='black',errorbar=None,estimator='mean',order=['segmentation','masters','mirroring'])\n",
    "g.set_xlabels('')\n",
    "g.set_xticklabels(['','',''])\n",
    "\n"
   ]
  },
  {
   "cell_type": "code",
   "execution_count": null,
   "metadata": {},
   "outputs": [],
   "source": [
    "# g.savefig('results/e1_1.pdf', format='pdf')"
   ]
  },
  {
   "cell_type": "markdown",
   "metadata": {},
   "source": [
    "#### computation time"
   ]
  },
  {
   "cell_type": "code",
   "execution_count": null,
   "metadata": {},
   "outputs": [],
   "source": [
    "import seaborn as sns \n",
    "sns.set_theme(font_scale=1.5)\n",
    "e1_general_correctness = df_transform(results_df_e1_1, measures.correctness)\n",
    "e1_time_long = pd.melt(e1_general_correctness.reset_index(), id_vars=['zone','alg','goal_pop','seed','obstacle_used'], value_vars=['segmentation_time','fast_segmentation_time','masters_time','mirroring_time'], var_name='measure', value_name='Time Cost')\n",
    "e1_time_long['Time Cost'] = e1_time_long['Time Cost'] * 1000\n",
    "\n",
    "e1_time_long = e1_time_long[e1_time_long['obstacle_used']==True]\n",
    "\n",
    "with sns.axes_style(\"whitegrid\"):\n",
    "    g= sns.catplot(data=e1_time_long, x='measure', y='Time Cost', kind='box', color='grey')\n",
    "g.set(ylim=(0, 30))\n",
    "g.set_xticklabels(['Segmentation','Fast Segmentation','Masters','Mirroring'], rotation=20, ha='right')\n",
    "g.set(ylabel='Time Cost (ms)', xlabel=None)"
   ]
  },
  {
   "cell_type": "code",
   "execution_count": null,
   "metadata": {},
   "outputs": [],
   "source": [
    "# e1_time_long"
   ]
  },
  {
   "cell_type": "code",
   "execution_count": null,
   "metadata": {},
   "outputs": [],
   "source": [
    "# g.savefig('results/tkde/e1_time2.pdf', format='pdf')"
   ]
  },
  {
   "cell_type": "markdown",
   "metadata": {},
   "source": [
    "\n",
    "### Multiple goals, variable number of intentions: adding potential destinations"
   ]
  },
  {
   "cell_type": "code",
   "execution_count": null,
   "metadata": {},
   "outputs": [],
   "source": [
    "params = {\"width\":20,\"height\":20,\"obs_num\":40,\"goal_zones\":['0,0','0,0,0,0,0,0','0,0,0,0,0,0,0,0,0,0'],\"seed\":range(1500,2500),\"path_planning_alg\":2,\"intention_profile\":1}\n",
    "results = mesa.batch_run(\n",
    "    PathFindingModel,\n",
    "    parameters = params,\n",
    "    iterations = 1,\n",
    "    max_steps = 500,\n",
    "    number_processes = None,\n",
    "    data_collection_period = 1,\n",
    "    display_progress=True,\n",
    ")\n",
    "results_df_e1_2 = pd.DataFrame(results)\n",
    "# results_df_e1_2.to_csv('results/e1_2_raw.csv')"
   ]
  },
  {
   "cell_type": "code",
   "execution_count": null,
   "metadata": {},
   "outputs": [],
   "source": [
    "# results_df_e1_2 = pd.read_csv('results/e1_2_raw.csv')"
   ]
  },
  {
   "cell_type": "code",
   "execution_count": null,
   "metadata": {},
   "outputs": [],
   "source": [
    "e1_2_final_correctness = df_transform(results_df_e1_2, measures.final_correctness)\n",
    "e1_2_final_correctness['destinition_pop'] = e1_2_final_correctness['zone'].apply(lambda x: len(x.split(',')))\n",
    "e1_2_fc_long = pd.melt(e1_2_final_correctness.reset_index(), id_vars=['zone','alg','goal_pop','seed','obstacle_used','destinition_pop','segments'], value_vars=['segmentation','masters','mirroring'], var_name='measure', value_name='Final Correctness')\n",
    "e1_2_fc_long.set_index(['zone','goal_pop','seed','alg','obstacle_used','destinition_pop','segments','measure'], inplace=True)\n",
    "e1_2_general_correctness = df_transform(results_df_e1_2, measures.correctness)\n",
    "e1_2_general_correctness['destinition_pop'] = e1_2_general_correctness['zone'].apply(lambda x: len(x.split(',')))\n",
    "e1_2_gc_long = pd.melt(e1_2_general_correctness.reset_index(), id_vars=['zone','alg','goal_pop','seed','obstacle_used','destinition_pop','segments'], value_vars=['segmentation','masters','mirroring'], var_name='measure', value_name='Overall Correctness')\n",
    "e1_2_gc_long.set_index(['zone','goal_pop','seed','alg','obstacle_used','destinition_pop','segments','measure'], inplace=True)\n",
    "e1_2_convergence_correctness = df_transform(results_df_e1_2, measures.last_change)\n",
    "e1_2_convergence_correctness['destinition_pop'] = e1_2_convergence_correctness['zone'].apply(lambda x: len(x.split(',')))\n",
    "e1_2_cc_long = pd.melt(e1_2_convergence_correctness.reset_index(), id_vars=['zone','alg','goal_pop','seed','obstacle_used','destinition_pop','segments'], value_vars=['segmentation','masters','mirroring'], var_name='measure', value_name='Convergence Speed')\n",
    "e1_2_cc_long.set_index(['zone','goal_pop','seed','alg','obstacle_used','destinition_pop','segments','measure'], inplace=True)\n",
    "e1_2_stability = df_transform(results_df_e1_2, measures.stability)\n",
    "e1_2_stability['destinition_pop'] = e1_2_stability['zone'].apply(lambda x: len(x.split(',')))\n",
    "e1_2_stability_long = pd.melt(e1_2_stability.reset_index(), id_vars=['zone','alg','goal_pop','seed','obstacle_used','destinition_pop','segments'], value_vars=['segmentation','masters','mirroring'], var_name='measure', value_name='Stability')\n",
    "e1_2_stability_long.set_index(['zone','goal_pop','seed','alg','obstacle_used','destinition_pop','segments','measure'], inplace=True)\n",
    "e1_2 = pd.concat([e1_2_fc_long, e1_2_gc_long, e1_2_cc_long, e1_2_stability_long], axis=1)\n",
    "e1_2.reset_index(names=['zone','goal_pop','seed','alg','obstacle_used','destinition_pop','segments','measure'], inplace=True)\n",
    "e1_2_long = pd.melt(e1_2, id_vars=['zone','goal_pop','seed','alg','obstacle_used','destinition_pop','segments','measure'], value_vars=['Final Correctness','Overall Correctness','Convergence Speed','Stability'], var_name='metric', value_name='value')\n"
   ]
  },
  {
   "cell_type": "code",
   "execution_count": null,
   "metadata": {},
   "outputs": [],
   "source": [
    "# e1_2_long.to_csv('results/e1_2.csv')"
   ]
  },
  {
   "cell_type": "code",
   "execution_count": null,
   "metadata": {},
   "outputs": [],
   "source": [
    "# e1_2_long = pd.read_csv('results/e1_2.csv')"
   ]
  },
  {
   "cell_type": "code",
   "execution_count": null,
   "metadata": {},
   "outputs": [],
   "source": [
    "tmp = e1_2_long[e1_2_long['obstacle_used']==True]"
   ]
  },
  {
   "cell_type": "code",
   "execution_count": null,
   "metadata": {},
   "outputs": [],
   "source": [
    "import seaborn as sns \n",
    "sns.set_theme()\n",
    "g = sns.FacetGrid(tmp,row=\"destinition_pop\", col=\"metric\", height=3, col_order=['Overall Correctness','Final Correctness','Convergence Speed','Stability'], margin_titles=True,\n",
    "                  palette='Set2',\n",
    "                  hue='measure',\n",
    "                  hue_order = ['segmentation','masters','mirroring'])\n",
    "# g.set_titles(row_template=\"{row_name} destinations\",col_template=\"{col_name}\")\n",
    "g.set_titles(row_template=\"\",col_template=\"\")\n",
    "g.map(sns.violinplot,\"measure\", \"value\", \n",
    "      cut=0, \n",
    "      order=['segmentation','masters','mirroring'], \n",
    "      dodge=False,\n",
    "      inner=None,\n",
    "      bw_adjust=0.2,\n",
    "      density_norm = \"area\",\n",
    "      )\n",
    "g.map(sns.pointplot,\"measure\", \"value\",color='black',errorbar=None,estimator='mean',order=['segmentation','masters','mirroring'])\n",
    "g.set_xlabels('')\n",
    "g.set_xticklabels(['','',''])\n",
    "g.set_ylabels('')\n",
    "g.tick_params(axis='both', which='major', labelsize=25)"
   ]
  },
  {
   "cell_type": "code",
   "execution_count": null,
   "metadata": {},
   "outputs": [],
   "source": [
    "# g.savefig('results/tkde/e1_2.pdf', format='pdf')"
   ]
  },
  {
   "cell_type": "markdown",
   "metadata": {},
   "source": [
    "T-test to confirm the significance of the difference in final correctness"
   ]
  },
  {
   "cell_type": "code",
   "execution_count": null,
   "metadata": {},
   "outputs": [],
   "source": [
    "tmp['destinition_pop'].unique()"
   ]
  },
  {
   "cell_type": "code",
   "execution_count": null,
   "metadata": {},
   "outputs": [],
   "source": [
    "from scipy.stats import ttest_ind"
   ]
  },
  {
   "cell_type": "code",
   "execution_count": null,
   "metadata": {},
   "outputs": [],
   "source": [
    "destination6_fc_segmentation = e1_2_long[(e1_2_long['obstacle_used']==True) & (e1_2_long['measure']=='segmentation') & (e1_2_long['metric']=='Final Correctness') & (e1_2_long['destinition_pop']==6)]\n",
    "destination6_fc_masters = e1_2_long[(e1_2_long['obstacle_used']==True) & (e1_2_long['measure']=='masters') & (e1_2_long['metric']=='Final Correctness') & (e1_2_long['destinition_pop']==6)]\n",
    "destination6_fc_mirroring = e1_2_long[(e1_2_long['obstacle_used']==True) & (e1_2_long['measure']=='mirroring') & (e1_2_long['metric']=='Final Correctness') & (e1_2_long['destinition_pop']==6)]\n",
    "t_stat1, p_value1 = ttest_ind(destination6_fc_segmentation['value'], destination6_fc_masters['value'])\n",
    "print(t_stat1, p_value1)\n",
    "t_stat2, p_value2 = ttest_ind(destination6_fc_segmentation['value'], destination6_fc_mirroring['value'])\n",
    "print(t_stat2, p_value2)"
   ]
  },
  {
   "cell_type": "code",
   "execution_count": null,
   "metadata": {},
   "outputs": [],
   "source": [
    "destination9_fc_segmentation = e1_2_long[(e1_2_long['obstacle_used']==True) & (e1_2_long['measure']=='segmentation') & (e1_2_long['metric']=='Final Correctness') & (e1_2_long['destinition_pop']==10)]\n",
    "destination9_fc_masters = e1_2_long[(e1_2_long['obstacle_used']==True) & (e1_2_long['measure']=='masters') & (e1_2_long['metric']=='Final Correctness') & (e1_2_long['destinition_pop']==10)]\n",
    "destination9_fc_mirroring = e1_2_long[(e1_2_long['obstacle_used']==True) & (e1_2_long['measure']=='mirroring') & (e1_2_long['metric']=='Final Correctness') & (e1_2_long['destinition_pop']==10)]\n",
    "t_stat3, p_value3 = ttest_ind(destination9_fc_segmentation['value'], destination9_fc_masters['value'])\n",
    "print(t_stat3, p_value3)\n",
    "t_stat4, p_value4 = ttest_ind(destination9_fc_segmentation['value'], destination9_fc_mirroring['value'])\n",
    "print(t_stat4, p_value4)"
   ]
  },
  {
   "cell_type": "code",
   "execution_count": null,
   "metadata": {},
   "outputs": [],
   "source": [
    "import seaborn as sns\n",
    "sns.set(font='Arial',font_scale=1.4)\n",
    "g = sns.FacetGrid(tmp, col=\"metric\", col_order=['Overall Correctness','Final Correctness','Convergence Speed','Stability'], \n",
    "                  margin_titles=True, \n",
    "                  palette='Set2',\n",
    "                  hue='measure',\n",
    "                  hue_order = ['segmentation','masters','mirroring']\n",
    "                  )\n",
    "g.set_titles(row_template=\"{row_name}\",col_template=\"{col_name}\")\n",
    "g.map(sns.lineplot, 'segments', 'value')\n",
    "g.set(ylim=(0,1),xlim=(0,20))"
   ]
  },
  {
   "attachments": {},
   "cell_type": "markdown",
   "metadata": {},
   "source": [
    "## Experiment 2: the impact of destination destribution\n",
    "comparing three scenarios:\n",
    "1. Uniform distribution in zone 2 only\n",
    "2. Uniform distribution in zone 1,2,3\n",
    "3. Uniform distribution in zone 0"
   ]
  },
  {
   "cell_type": "code",
   "execution_count": null,
   "metadata": {},
   "outputs": [],
   "source": [
    "params = {\"width\":20,\"height\":20,\"obs_num\":40,\"goal_zones\":['2,0,0,0','2,2,2,2','2,1,2,3'],\"seed\":range(1,1000),\"path_planning_alg\":0,\"intention_profile\":1}\n",
    "results = mesa.batch_run(\n",
    "    PathFindingModel,\n",
    "    parameters = params,\n",
    "    iterations = 1,\n",
    "    max_steps = 1000,\n",
    "    number_processes = None,\n",
    "    data_collection_period = 1,\n",
    "    display_progress=True,\n",
    ")\n",
    "results_df_e2 = pd.DataFrame(results)\n",
    "# results_df_e2.to_csv('results/e2_raw.csv')"
   ]
  },
  {
   "cell_type": "code",
   "execution_count": null,
   "metadata": {},
   "outputs": [],
   "source": [
    "# results_df_e2 = pd.read_csv('results/e2_raw.csv')"
   ]
  },
  {
   "cell_type": "code",
   "execution_count": null,
   "metadata": {},
   "outputs": [],
   "source": [
    "e2_final_correctness = df_transform(results_df_e2, measures.final_correctness)\n",
    "e2_fc_long  = pd.melt(e2_final_correctness.reset_index(), id_vars=['zone','alg','goal_pop','seed','obstacle_used','segments'], value_vars=['segmentation','masters','mirroring'], var_name='measure', value_name='Final Correctness')\n",
    "e2_fc_long.set_index(['zone','goal_pop','seed','alg','obstacle_used','segments','measure'], inplace=True)\n",
    "e2_general_correctness = df_transform(results_df_e2, measures.correctness)\n",
    "e2_gc_long  = pd.melt(e2_general_correctness.reset_index(), id_vars=['zone','alg','goal_pop','seed','obstacle_used','segments'], value_vars=['segmentation','masters','mirroring'], var_name='measure', value_name='Overall Correctness')\n",
    "e2_gc_long.set_index(['zone','goal_pop','seed','alg','obstacle_used','segments','measure'], inplace=True)\n",
    "e2_convergence_correctness = df_transform(results_df_e2, measures.last_change)\n",
    "e2_cc_long  = pd.melt(e2_convergence_correctness.reset_index(), id_vars=['zone','alg','goal_pop','seed','obstacle_used','segments'], value_vars=['segmentation','masters','mirroring'], var_name='measure', value_name='Convergence Speed')\n",
    "e2_cc_long.set_index(['zone','goal_pop','seed','alg','obstacle_used','segments','measure'], inplace=True)\n",
    "e2_stability = df_transform(results_df_e2, measures.stability)\n",
    "e2_stability_long  = pd.melt(e2_stability.reset_index(), id_vars=['zone','alg','goal_pop','seed','obstacle_used','segments'], value_vars=['segmentation','masters','mirroring'], var_name='measure', value_name='Stability')\n",
    "e2_stability_long.set_index(['zone','goal_pop','seed','alg','obstacle_used','segments','measure'], inplace=True)\n",
    "e2 = pd.concat([e2_fc_long, e2_gc_long, e2_cc_long, e2_stability_long], axis=1)\n",
    "e2.reset_index(names=['zone','goal_pop','seed','alg','obstacle_used','segments','measure'], inplace=True)\n",
    "e2_long = pd.melt(e2, id_vars=['zone','goal_pop','seed','alg','obstacle_used','segments','measure'], value_vars=['Final Correctness','Overall Correctness','Convergence Speed','Stability'], var_name='metric', value_name='value')"
   ]
  },
  {
   "cell_type": "code",
   "execution_count": null,
   "metadata": {},
   "outputs": [],
   "source": [
    "# e2_long.to_csv('results/e2.csv')"
   ]
  },
  {
   "cell_type": "code",
   "execution_count": null,
   "metadata": {},
   "outputs": [],
   "source": [
    "# e2_long = pd.read_csv('results/e2.csv')"
   ]
  },
  {
   "cell_type": "code",
   "execution_count": null,
   "metadata": {},
   "outputs": [],
   "source": [
    "e2_long['zone'] = e2_long['zone'].replace({'0,0,0,0':'sparse','2,2,2,2':'dense','2,1,2,3':'medium'})\n",
    "e2_long.replace(['General Correctness','Convergence Correctness'], ['Overall Correctness','Convergence Speed'], inplace=True)\n",
    "e2_long.loc[e2_long['metric']=='Convergence Speed','value'] = 1 - e2_long.loc[e2_long['metric']=='Convergence Speed','value']\n",
    "tmp = e2_long[e2_long['obstacle_used']==True]"
   ]
  },
  {
   "cell_type": "code",
   "execution_count": null,
   "metadata": {},
   "outputs": [],
   "source": [
    "import seaborn as sns\n",
    "sns.set_theme()\n",
    "g = sns.FacetGrid(tmp,row=\"zone\", row_order=['sparse','medium','dense'], col=\"metric\", height=3, col_order=['Overall Correctness','Final Correctness','Convergence Speed','Stability'], margin_titles=True,\n",
    "                  palette='Set2',\n",
    "                  hue='measure',\n",
    "                  hue_order = ['segmentation','masters','mirroring'])\n",
    "g.set_titles(row_template=\"\",col_template=\"\")\n",
    "g.map(sns.violinplot,\"measure\", \"value\", \n",
    "      cut=0, \n",
    "      order=['segmentation','masters','mirroring'], \n",
    "      dodge=False,\n",
    "      inner=None,\n",
    "      bw_adjust=0.2,\n",
    "      density_norm = \"area\",\n",
    "      )\n",
    "g.map(sns.pointplot,\"measure\", \"value\",color='black',errorbar=None,estimator='mean',order=['segmentation','masters','mirroring'])\n",
    "g.set_xlabels('')\n",
    "g.set_xticklabels(['','',''])\n",
    "g.set_ylabels('')\n",
    "g.tick_params(axis='both', which='major', labelsize=25)"
   ]
  },
  {
   "cell_type": "code",
   "execution_count": null,
   "metadata": {},
   "outputs": [],
   "source": [
    "# g.savefig('results/tkde/e2.pdf', format='pdf')"
   ]
  },
  {
   "cell_type": "markdown",
   "metadata": {},
   "source": [
    "T-test to confirm the significance of the difference in final correctness"
   ]
  },
  {
   "cell_type": "code",
   "execution_count": null,
   "metadata": {},
   "outputs": [],
   "source": [
    "# tmp"
   ]
  },
  {
   "cell_type": "code",
   "execution_count": null,
   "metadata": {},
   "outputs": [],
   "source": [
    "sparse_fc_segmentation = e2_long[(e2_long['measure']=='segmentation') & (e2_long['metric']=='Final Correctness') & (e2_long['zone']=='sparse')]\n",
    "sparse_fc_masters = e2_long[(e2_long['measure']=='masters') & (e2_long['metric']=='Final Correctness') & (e2_long['zone']=='sparse')]\n",
    "sparse_fc_mirroring = e2_long[(e2_long['measure']=='mirroring') & (e2_long['metric']=='Final Correctness') & (e2_long['zone']=='sparse')]\n",
    "t_stat1, p_value1 = ttest_ind(sparse_fc_segmentation['value'], sparse_fc_masters['value'])\n",
    "print(t_stat1, p_value1)\n",
    "t_stat2, p_value2 = ttest_ind(sparse_fc_segmentation['value'], sparse_fc_mirroring['value'])\n",
    "print(t_stat2, p_value2)"
   ]
  },
  {
   "cell_type": "code",
   "execution_count": null,
   "metadata": {},
   "outputs": [],
   "source": [
    "medium_fc_segmentation = e2_long[(e2_long['measure']=='segmentation') & (e2_long['metric']=='Final Correctness') & (e2_long['zone']=='medium')]\n",
    "medium_fc_masters = e2_long[(e2_long['measure']=='masters') & (e2_long['metric']=='Final Correctness') & (e2_long['zone']=='medium')]\n",
    "medium_fc_mirroring = e2_long[(e2_long['measure']=='mirroring') & (e2_long['metric']=='Final Correctness') & (e2_long['zone']=='medium')]\n",
    "t_stat1, p_value1 = ttest_ind(medium_fc_segmentation['value'], medium_fc_masters['value'])\n",
    "print(t_stat1, p_value1)\n",
    "t_stat2, p_value2 = ttest_ind(medium_fc_segmentation['value'], medium_fc_mirroring['value'])\n",
    "print(t_stat2, p_value2)"
   ]
  },
  {
   "cell_type": "code",
   "execution_count": null,
   "metadata": {},
   "outputs": [],
   "source": [
    "dense_fc_segmentation = e2_long[(e2_long['measure']=='segmentation') & (e2_long['metric']=='Final Correctness') & (e2_long['zone']=='dense')]\n",
    "dense_fc_masters = e2_long[(e2_long['measure']=='masters') & (e2_long['metric']=='Final Correctness') & (e2_long['zone']=='dense')]\n",
    "dense_fc_mirroring = e2_long[(e2_long['measure']=='mirroring') & (e2_long['metric']=='Final Correctness') & (e2_long['zone']=='dense')]\n",
    "t_stat3, p_value3 = ttest_ind(dense_fc_segmentation['value'], dense_fc_masters['value'])\n",
    "print(t_stat3, p_value3)\n",
    "t_stat4, p_value4 = ttest_ind(dense_fc_segmentation['value'], dense_fc_mirroring['value'])\n",
    "print(t_stat4, p_value4)"
   ]
  },
  {
   "cell_type": "code",
   "execution_count": null,
   "metadata": {},
   "outputs": [],
   "source": [
    "import seaborn as sns\n",
    "sns.set(font='Arial',font_scale=1.4)\n",
    "g = sns.FacetGrid(e2_long, col=\"metric\", col_order=['Overall Correctness','Final Correctness','Convergence Speed','Stability'], \n",
    "                  margin_titles=True, \n",
    "                  palette='Set2',\n",
    "                  hue='measure',\n",
    "                  hue_order = ['segmentation','masters','mirroring']\n",
    "                  )\n",
    "g.set_titles(row_template=\"{row_name}\",col_template=\"{col_name}\")\n",
    "g.map(sns.lineplot, 'segments', 'value')\n",
    "g.set(ylim=(0,1),xlim=(0,20))"
   ]
  },
  {
   "attachments": {},
   "cell_type": "markdown",
   "metadata": {},
   "source": [
    "## Experiment 3: the impact of movement patterns"
   ]
  },
  {
   "cell_type": "code",
   "execution_count": null,
   "metadata": {},
   "outputs": [],
   "source": [
    "params = {\"width\":20,\"height\":20,\"obs_num\":40,\"goal_zones\":'2,2,2,2',\"seed\":range(0,1000),\"path_planning_alg\":[0,1,2],\"intention_profile\":1}\n",
    "results = mesa.batch_run(\n",
    "    PathFindingModel,\n",
    "    parameters = params,\n",
    "    iterations = 1,\n",
    "    max_steps = 1000,\n",
    "    number_processes = None,\n",
    "    data_collection_period = 1,\n",
    "    display_progress=True,\n",
    ")\n",
    "results_df_e3 = pd.DataFrame(results)"
   ]
  },
  {
   "cell_type": "code",
   "execution_count": null,
   "metadata": {},
   "outputs": [],
   "source": [
    "e3_final_correctness = df_transform(results_df_e3, measures.final_correctness)\n",
    "e3_fc_long  = pd.melt(e3_final_correctness.reset_index(), id_vars=['zone','alg','goal_pop','seed','obstacle_used'], value_vars=['segmentation','masters','mirroring'], var_name='measure', value_name='Final Correctness')\n",
    "e3_fc_long.set_index(['zone','goal_pop','seed','alg','obstacle_used','measure'], inplace=True)\n",
    "e3_general_correctness = df_transform(results_df_e3, measures.correctness)\n",
    "e3_gc_long  = pd.melt(e3_general_correctness.reset_index(), id_vars=['zone','alg','goal_pop','seed','obstacle_used'], value_vars=['segmentation','masters','mirroring'], var_name='measure', value_name='General Correctness')\n",
    "e3_gc_long.set_index(['zone','goal_pop','seed','alg','obstacle_used','measure'], inplace=True)\n",
    "e3_convergence_correctness = df_transform(results_df_e3, measures.last_change)\n",
    "e3_cc_long  = pd.melt(e3_convergence_correctness.reset_index(), id_vars=['zone','alg','goal_pop','seed','obstacle_used'], value_vars=['segmentation','masters','mirroring'], var_name='measure', value_name='Convergence Correctness')\n",
    "e3_cc_long.set_index(['zone','goal_pop','seed','alg','obstacle_used','measure'], inplace=True)\n",
    "e3_stability = df_transform(results_df_e3, measures.stability)\n",
    "e3_stability_long  = pd.melt(e3_stability.reset_index(), id_vars=['zone','alg','goal_pop','seed','obstacle_used'], value_vars=['segmentation','masters','mirroring'], var_name='measure', value_name='Stability')\n",
    "e3_stability_long.set_index(['zone','goal_pop','seed','alg','obstacle_used','measure'], inplace=True)\n",
    "e3 = pd.concat([e3_fc_long, e3_gc_long, e3_cc_long, e3_stability_long], axis=1)\n",
    "e3.reset_index(names=['zone','goal_pop','seed','alg','obstacle_used','measure'], inplace=True)\n",
    "e3_long = pd.melt(e3, id_vars=['zone','goal_pop','seed','alg','obstacle_used','measure'], value_vars=['Final Correctness','General Correctness','Convergence Correctness','Stability'], var_name='metric', value_name='value')"
   ]
  },
  {
   "cell_type": "code",
   "execution_count": null,
   "metadata": {},
   "outputs": [],
   "source": [
    "# e3_long.to_csv('results/e3.csv')"
   ]
  },
  {
   "cell_type": "code",
   "execution_count": null,
   "metadata": {},
   "outputs": [],
   "source": [
    "# e3_long = pd.read_csv('results/e3.csv')"
   ]
  },
  {
   "cell_type": "code",
   "execution_count": null,
   "metadata": {},
   "outputs": [],
   "source": [
    "e3_long['alg'] = e3_long['alg'].replace({0:'DWA',1:'ASTAR',2:'BUG0'})\n",
    "tmp = e3_long.replace(['General Correctness','Convergence Correctness'], ['Overall Correctness','Convergence Speed'])\n",
    "tmp.loc[tmp['metric']=='Convergence Speed','value'] = 1 - tmp.loc[tmp['metric']=='Convergence Speed','value']\n",
    "tmp = tmp[tmp['obstacle_used']==True]"
   ]
  },
  {
   "cell_type": "code",
   "execution_count": null,
   "metadata": {},
   "outputs": [],
   "source": [
    "import seaborn as sns\n",
    "sns.set_theme()\n",
    "g = sns.FacetGrid(tmp,row=\"alg\", row_order=['ASTAR','DWA','BUG0'], col=\"metric\", height=3, col_order=['Overall Correctness','Final Correctness','Convergence Speed','Stability'], margin_titles=True,\n",
    "                  palette='Set2',\n",
    "                  hue='measure',\n",
    "                  hue_order = ['segmentation','masters','mirroring'])\n",
    "g.set_titles(row_template=\"\",col_template=\"\")\n",
    "g.map(sns.violinplot,\"measure\", \"value\", \n",
    "      cut=0, \n",
    "      order=['segmentation','masters','mirroring'], \n",
    "      dodge=False,\n",
    "      inner=None,\n",
    "      bw_adjust=0.2,\n",
    "      density_norm = \"area\",\n",
    "      )\n",
    "g.map(sns.pointplot,\"measure\", \"value\",color='black',errorbar=None,estimator='mean',order=['segmentation','masters','mirroring'])\n",
    "g.set_xlabels('')\n",
    "g.set_xticklabels(['','',''])\n",
    "g.set_ylabels('')\n",
    "g.tick_params(axis='both', which='major', labelsize=25)"
   ]
  },
  {
   "cell_type": "code",
   "execution_count": null,
   "metadata": {},
   "outputs": [],
   "source": [
    "# g.savefig('results/tkde/e3.pdf', format='pdf')"
   ]
  },
  {
   "cell_type": "markdown",
   "metadata": {},
   "source": [
    "T-test to confirm the significance of the difference in final correctness"
   ]
  },
  {
   "cell_type": "code",
   "execution_count": null,
   "metadata": {},
   "outputs": [],
   "source": [
    "astar_fc_segmentation = e3_long[(e3_long['measure']=='segmentation') & (e3_long['metric']=='Final Correctness') & (e3_long['alg']=='ASTAR')]\n",
    "astar_fc_masters = e3_long[(e3_long['measure']=='masters') & (e3_long['metric']=='Final Correctness') & (e3_long['alg']=='ASTAR')]\n",
    "astar_fc_mirroring = e3_long[(e3_long['measure']=='mirroring') & (e3_long['metric']=='Final Correctness') & (e3_long['alg']=='ASTAR')]\n",
    "t_stat1, p_value1 = ttest_ind(astar_fc_segmentation['value'], astar_fc_masters['value'])\n",
    "print(t_stat1, p_value1)\n",
    "t_stat2, p_value2 = ttest_ind(astar_fc_segmentation['value'], astar_fc_mirroring['value'])\n",
    "print(t_stat2, p_value2)"
   ]
  },
  {
   "cell_type": "code",
   "execution_count": null,
   "metadata": {},
   "outputs": [],
   "source": [
    "dwa_fc_segmentation = e3_long[(e3_long['measure']=='segmentation') & (e3_long['metric']=='Final Correctness') & (e3_long['alg']=='DWA')]\n",
    "dwa_fc_masters = e3_long[(e3_long['measure']=='masters') & (e3_long['metric']=='Final Correctness') & (e3_long['alg']=='DWA')]\n",
    "dwa_fc_mirroring = e3_long[(e3_long['measure']=='mirroring') & (e3_long['metric']=='Final Correctness') & (e3_long['alg']=='DWA')]\n",
    "t_stat3, p_value3 = ttest_ind(dwa_fc_segmentation['value'], dwa_fc_masters['value'])\n",
    "print(t_stat3, p_value3)\n",
    "t_stat4, p_value4 = ttest_ind(dwa_fc_segmentation['value'], dwa_fc_mirroring['value'])\n",
    "print(t_stat4, p_value4)"
   ]
  },
  {
   "cell_type": "code",
   "execution_count": null,
   "metadata": {},
   "outputs": [],
   "source": [
    "bug0_fc_segmentation = e3_long[(e3_long['measure']=='segmentation') & (e3_long['metric']=='Final Correctness') & (e3_long['alg']=='BUG0')]\n",
    "bug0_fc_masters = e3_long[(e3_long['measure']=='masters') & (e3_long['metric']=='Final Correctness') & (e3_long['alg']=='BUG0')]\n",
    "bug0_fc_mirroring = e3_long[(e3_long['measure']=='mirroring') & (e3_long['metric']=='Final Correctness') & (e3_long['alg']=='BUG0')]\n",
    "t_stat5, p_value5 = ttest_ind(bug0_fc_segmentation['value'], bug0_fc_masters['value'])\n",
    "print(t_stat5, p_value5)\n",
    "t_stat6, p_value6 = ttest_ind(bug0_fc_segmentation['value'], bug0_fc_mirroring['value'])\n",
    "print(t_stat6, p_value6)"
   ]
  }
 ],
 "metadata": {
  "kernelspec": {
   "display_name": "python_robotics",
   "language": "python",
   "name": "python3"
  },
  "language_info": {
   "codemirror_mode": {
    "name": "ipython",
    "version": 3
   },
   "file_extension": ".py",
   "mimetype": "text/x-python",
   "name": "python",
   "nbconvert_exporter": "python",
   "pygments_lexer": "ipython3",
   "version": "3.10.6"
  },
  "orig_nbformat": 4,
  "vscode": {
   "interpreter": {
    "hash": "22deedcdf8e7246ca0e9ab5e1b6c795513665351cd310caf898923d389defd95"
   }
  }
 },
 "nbformat": 4,
 "nbformat_minor": 2
}
